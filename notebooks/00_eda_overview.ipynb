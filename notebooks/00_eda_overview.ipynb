{
 "cells": [
  {
   "cell_type": "markdown",
   "id": "36a0fa64fce8d6cc",
   "metadata": {},
   "source": [
    "# Caso práctico 3 [COLABORATIVO]: [OULAD Dataset](https://analyse.kmi.open.ac.uk/open-dataset)"
   ]
  },
  {
   "cell_type": "markdown",
   "id": "41f3ad72a8cd3d4b",
   "metadata": {},
   "source": [
    "## Librerías y variables reusables"
   ]
  },
  {
   "cell_type": "code",
   "execution_count": null,
   "id": "9b3ac335a2325baf",
   "metadata": {},
   "outputs": [],
   "source": [
    "import pandas as pd\n",
    "import matplotlib.pyplot as plt\n",
    "import pathlib\n",
    "import seaborn as sns\n",
    "\n",
    "# Ruta a los archivos (más ordenado y reutilizable)\n",
    "processed_path = pathlib.Path(\"../data/processed\").resolve()"
   ]
  },
  {
   "cell_type": "markdown",
   "id": "3a302c79452c701c",
   "metadata": {},
   "source": [
    "## Exploración de datos de estudiante"
   ]
  },
  {
   "cell_type": "code",
   "execution_count": null,
   "id": "489be2a11768067",
   "metadata": {},
   "outputs": [],
   "source": [
    "# Cargar datos con columnas ordinales\n",
    "df = pd.read_csv(processed_path/\"studentInfo_ordinal.csv\")\n",
    "\n",
    "# Exploracion de datos\n",
    "# Mostrar forma del dataset\n",
    "print(\"Filas y columnas:\", df.shape)\n",
    "\n",
    "# Primeras filas\n",
    "print(\"\\nPrimeras filas:\")\n",
    "print(df.head())\n",
    "\n",
    "# Valores nulos\n",
    "print(\"\\nValores nulos por columna:\")\n",
    "print(df.isnull().sum())\n",
    "\n",
    "# Estadísticas básicas\n",
    "print(\"\\nEstadísticas básicas:\")\n",
    "print(df.describe(include='all'))\n",
    "\n",
    "\n",
    "# Tablas pivote\n",
    "pivot_table = df.pivot_table(index=\"gender\", columns=\"code_module\", values=\"final_result\", aggfunc=\"count\", fill_value=0)\n",
    "print(pivot_table)"
   ]
  },
  {
   "cell_type": "markdown",
   "id": "9fb91542fe575b68",
   "metadata": {},
   "source": [
    "## Full Domain para Assessment y VLE"
   ]
  },
  {
   "cell_type": "code",
   "execution_count": null,
   "id": "initial_id",
   "metadata": {},
   "outputs": [],
   "source": [
    "# Full Domain son todos los valores distintos de una columna\n",
    "\n",
    "# Cargar datos\n",
    "df_assess = pd.read_csv(processed_path/\"assessments.csv\")\n",
    "df_vle = pd.read_csv(processed_path/\"vle.csv\")\n",
    "\n",
    "# Mostrar dominio completo de 'assessment_type'\n",
    "print(\"Tipos de assessment:\")\n",
    "print(df_assess[\"assessment_type\"].value_counts())\n",
    "\n",
    "# Mostrar dominio completo de 'activity_type'\n",
    "print(\"\\nTipos de actividad VLE:\")\n",
    "print(df_vle[\"activity_type\"].value_counts())\n",
    "\n",
    "# Visualización del dominio de tipos de assessment\n",
    "plt.figure(figsize=(6, 4))\n",
    "df_assess[\"assessment_type\"].value_counts().plot(kind=\"bar\", title=\"Tipos de Assessment\", color=\"skyblue\")\n",
    "plt.xlabel(\"Tipo de assessment\")\n",
    "plt.ylabel(\"Cantidad\")\n",
    "plt.xticks(rotation=45)\n",
    "plt.tight_layout()\n",
    "plt.show()\n",
    "\n",
    "# Visualización del dominio de tipos de actividad VLE\n",
    "plt.figure(figsize=(8, 5))\n",
    "df_vle[\"activity_type\"].value_counts().plot(kind=\"bar\", title=\"Tipos de Actividad VLE\", color=\"orange\")\n",
    "plt.xlabel(\"Tipo de actividad VLE\")\n",
    "plt.ylabel(\"Cantidad\")\n",
    "plt.xticks(rotation=45)\n",
    "plt.tight_layout()\n",
    "plt.show()"
   ]
  },
  {
   "cell_type": "markdown",
   "id": "71f6e73758fdd725",
   "metadata": {},
   "source": [
    "## Matriz de Correlación entre Variables Ordinales"
   ]
  },
  {
   "cell_type": "code",
   "execution_count": null,
   "id": "8d43d31b4a6a5de6",
   "metadata": {},
   "outputs": [],
   "source": [
    "df = pd.read_csv(processed_path/\"studentInfo_ordinal.csv\")\n",
    "\n",
    "# Seleccionar solo las columnas ordinales\n",
    "ordinal_cols = [\"highest_education_ord\", \"age_band_ord\", \"imd_band_ord\", \"final_result_ord\"]\n",
    "\n",
    "# Calcular la matriz de correlación\n",
    "correlation_matrix = df[ordinal_cols].corr()\n",
    "\n",
    "# Visualizar con un heatmap\n",
    "plt.figure(figsize=(8, 6))\n",
    "sns.heatmap(correlation_matrix, annot=True, cmap=\"coolwarm\", fmt=\".2f\")\n",
    "plt.title(\"Matriz de Correlación entre Variables Ordinales\")\n",
    "plt.tight_layout()\n",
    "plt.show()"
   ]
  }
 ],
 "metadata": {
  "kernelspec": {
   "display_name": "Python 3 (ipykernel)",
   "language": "python",
   "name": "python3"
  },
  "language_info": {
   "codemirror_mode": {
    "name": "ipython",
    "version": 3
   },
   "file_extension": ".py",
   "mimetype": "text/x-python",
   "name": "python",
   "nbconvert_exporter": "python",
   "pygments_lexer": "ipython3",
   "version": "3.12.0"
  }
 },
 "nbformat": 4,
 "nbformat_minor": 5
}
